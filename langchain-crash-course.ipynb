{
 "cells": [
  {
   "cell_type": "markdown",
   "metadata": {},
   "source": [
    "# I - Configuração\n",
    "## Passo 1: Conseguir suas Credenciais\n",
    "\n",
    "https://aistudio.google.com/apikey\n",
    "\n",
    "Utilize o link acima para conseguir sua chave de API, coloque-a dentro de um arquivo chamado \".env\";\n",
    "utilize o arquivo \".env_example\" como um guia.\n"
   ]
  },
  {
   "cell_type": "code",
   "execution_count": 1,
   "metadata": {},
   "outputs": [],
   "source": [
    "# Código para carregar a chave de API do Google\n",
    "import os\n",
    "from dotenv import load_dotenv,find_dotenv\n",
    "\n",
    "load_dotenv(find_dotenv())\n",
    "_ = os.getenv('GOOGLE_API_KEY')"
   ]
  },
  {
   "cell_type": "markdown",
   "metadata": {},
   "source": [
    "## Passo 2: Instalar as bibliotecas necessárias\n",
    "Eu mantenho um arquivo chamado \"requirements.txt\" com as dependências que eu uso, mas se você quiser fazer uma execução limpa, as principais libs para esse tutorial são langchain-core, langgraph (gestão de historico de mensagens) e langchain-google-genai o modulo do langchain responsável por executar o modelo gratis do gemini."
   ]
  },
  {
   "cell_type": "code",
   "execution_count": null,
   "metadata": {},
   "outputs": [],
   "source": [
    "!pip install -U langchain-core langgraph langchain-google-genai"
   ]
  },
  {
   "cell_type": "markdown",
   "metadata": {},
   "source": [
    "# II - Chatbot simples\n",
    "\n",
    "O primeiro passo para entender como funciona o Langchain é vermos como ele chama o modelo na sua forma mais simples.\n",
    "A seguir temos uma simples instanciação de modelo e uma chamada a esse modelo passando uma mensagem.\n",
    "\n",
    "Na forma atual embora ja esteja funcionando, após cada mensagem o histórico é reiniciado e ele não recorda as conversas anteriores.\n"
   ]
  },
  {
   "cell_type": "code",
   "execution_count": 2,
   "metadata": {},
   "outputs": [],
   "source": [
    "# biblioteca para carregar o modelo da LLM\n",
    "from langchain.chat_models import init_chat_model\n",
    "\n",
    "# Define o Modelo da LLM\n",
    "model = init_chat_model(\"gemini-2.0-flash-lite\", model_provider=\"google_genai\")"
   ]
  },
  {
   "cell_type": "code",
   "execution_count": null,
   "metadata": {},
   "outputs": [
    {
     "data": {
      "text/plain": [
       "AIMessage(content='E aí Lucas, tudo tranquilo por aqui! Como vai você? 😊', additional_kwargs={}, response_metadata={'prompt_feedback': {'block_reason': 0, 'safety_ratings': []}, 'finish_reason': 'STOP', 'safety_ratings': []}, id='run-90979a15-d283-4c77-9824-4ad7690436ae-0', usage_metadata={'input_tokens': 11, 'output_tokens': 15, 'total_tokens': 26, 'input_token_details': {'cache_read': 0}})"
      ]
     },
     "execution_count": 4,
     "metadata": {},
     "output_type": "execute_result"
    }
   ],
   "source": [
    "# biblioteca para enviar mensagens para o modelo como humano\n",
    "from langchain_core.messages import HumanMessage\n",
    "\n",
    "model.invoke([HumanMessage(content=\"Iai macho, tudo suave? Me chamo Lucas\")])"
   ]
  },
  {
   "cell_type": "markdown",
   "metadata": {},
   "source": [
    "Para contornar isso podemos manualmente escrever o histórico de mensagens, embora essa forma não seja prática.\n",
    "\n",
    "Exemplo passando as mensagens como um histórico:"
   ]
  },
  {
   "cell_type": "code",
   "execution_count": 5,
   "metadata": {},
   "outputs": [
    {
     "data": {
      "text/plain": [
       "AIMessage(content='Seu nome é Lucas! 😉', additional_kwargs={}, response_metadata={'prompt_feedback': {'block_reason': 0, 'safety_ratings': []}, 'finish_reason': 'STOP', 'safety_ratings': []}, id='run-601cdd76-dd4e-4ed8-9be5-a497dbe62061-0', usage_metadata={'input_tokens': 30, 'output_tokens': 7, 'total_tokens': 37, 'input_token_details': {'cache_read': 0}})"
      ]
     },
     "execution_count": 5,
     "metadata": {},
     "output_type": "execute_result"
    }
   ],
   "source": [
    "# # biblioteca para enviar mensagens para o modelo se fosse o próprio modelo\n",
    "from langchain_core.messages import AIMessage\n",
    "\n",
    "model.invoke(\n",
    "    [\n",
    "        HumanMessage(content=\"Iai macho, tudo suave? Me chamo Lucas\"),\n",
    "        AIMessage(content=\"E aí Lucas, tudo tranquilo por aqui! Como vai você? 😊\"),\n",
    "        HumanMessage(content=\"Qual o meu nome?\"),\n",
    "    ]\n",
    ")"
   ]
  },
  {
   "cell_type": "markdown",
   "metadata": {},
   "source": [
    "# III - Chatbot com histórico de Mensagens\n",
    "\n",
    "\n",
    "...\n"
   ]
  }
 ],
 "metadata": {
  "kernelspec": {
   "display_name": ".conda",
   "language": "python",
   "name": "python3"
  },
  "language_info": {
   "codemirror_mode": {
    "name": "ipython",
    "version": 3
   },
   "file_extension": ".py",
   "mimetype": "text/x-python",
   "name": "python",
   "nbconvert_exporter": "python",
   "pygments_lexer": "ipython3",
   "version": "3.11.11"
  }
 },
 "nbformat": 4,
 "nbformat_minor": 2
}
