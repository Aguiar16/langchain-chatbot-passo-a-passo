{
 "cells": [
  {
   "cell_type": "markdown",
   "metadata": {},
   "source": [
    "# I - Configuração\n",
    "## Passo 1: Conseguir suas Credenciais\n",
    "\n",
    "https://aistudio.google.com/apikey\n",
    "\n",
    "Utilize o link acima para conseguir sua chave de API, coloque-a dentro de um arquivo chamado \".env\";\n",
    "utilize o arquivo \".env_example\" como um guia.\n"
   ]
  },
  {
   "cell_type": "code",
   "execution_count": 1,
   "metadata": {},
   "outputs": [],
   "source": [
    "# Código para carregar a chave de API do Google\n",
    "import os\n",
    "from dotenv import load_dotenv,find_dotenv\n",
    "\n",
    "load_dotenv(find_dotenv())\n",
    "_ = os.getenv('GOOGLE_API_KEY')"
   ]
  },
  {
   "cell_type": "markdown",
   "metadata": {},
   "source": [
    "## Passo 2: Instalar as bibliotecas necessárias\n",
    "Eu mantenho um arquivo chamado \"requirements.txt\" com as dependências que eu uso, mas se você quiser fazer uma execução limpa, as principais libs para esse tutorial são langchain-core, langgraph (gestão de historico de mensagens) e langchain-google-genai o modulo do langchain responsável por executar o modelo gratis do gemini."
   ]
  },
  {
   "cell_type": "code",
   "execution_count": null,
   "metadata": {},
   "outputs": [],
   "source": [
    "%pip install -U langchain-core langgraph langchain-google-genai"
   ]
  },
  {
   "cell_type": "markdown",
   "metadata": {},
   "source": [
    "# II - Chatbot simples\n",
    "\n",
    "O primeiro passo para entender como funciona o Langchain é vermos como ele chama o modelo na sua forma mais simples.\n",
    "A seguir temos uma simples criação de uma instancia do modelo e uma chamada a esse modelo passando uma mensagem.\n",
    "\n",
    "Na forma atual embora ja esteja funcionando, após cada mensagem o histórico é reiniciado e ele não recorda as conversas anteriores.\n"
   ]
  },
  {
   "cell_type": "code",
   "execution_count": 2,
   "metadata": {},
   "outputs": [],
   "source": [
    "# biblioteca para carregar o modelo da LLM\n",
    "from langchain.chat_models import init_chat_model\n",
    "\n",
    "# Define o Modelo da LLM\n",
    "model = init_chat_model(\"gemini-2.0-flash-lite\", model_provider=\"google_genai\")"
   ]
  },
  {
   "cell_type": "code",
   "execution_count": null,
   "metadata": {},
   "outputs": [
    {
     "data": {
      "text/plain": [
       "AIMessage(content='E aí Lucas, tudo tranquilo por aqui! Como vai você? 😊', additional_kwargs={}, response_metadata={'prompt_feedback': {'block_reason': 0, 'safety_ratings': []}, 'finish_reason': 'STOP', 'safety_ratings': []}, id='run-90979a15-d283-4c77-9824-4ad7690436ae-0', usage_metadata={'input_tokens': 11, 'output_tokens': 15, 'total_tokens': 26, 'input_token_details': {'cache_read': 0}})"
      ]
     },
     "execution_count": 4,
     "metadata": {},
     "output_type": "execute_result"
    }
   ],
   "source": [
    "# biblioteca para enviar mensagens para o modelo como humano\n",
    "from langchain_core.messages import HumanMessage\n",
    "\n",
    "# Invoca o modelo passando uma mensagem de texto como humano\n",
    "model.invoke([HumanMessage(content=\"Iai macho, tudo suave? Me chamo Lucas\")])"
   ]
  },
  {
   "cell_type": "markdown",
   "metadata": {},
   "source": [
    "Para contornar isso podemos manualmente escrever o histórico de mensagens, embora essa forma não seja prática.\n",
    "\n",
    "Um exemplo passando varias mensagens como um histórico:"
   ]
  },
  {
   "cell_type": "code",
   "execution_count": null,
   "metadata": {},
   "outputs": [
    {
     "data": {
      "text/plain": [
       "AIMessage(content='Seu nome é Lucas! 😉', additional_kwargs={}, response_metadata={'prompt_feedback': {'block_reason': 0, 'safety_ratings': []}, 'finish_reason': 'STOP', 'safety_ratings': []}, id='run-601cdd76-dd4e-4ed8-9be5-a497dbe62061-0', usage_metadata={'input_tokens': 30, 'output_tokens': 7, 'total_tokens': 37, 'input_token_details': {'cache_read': 0}})"
      ]
     },
     "execution_count": 5,
     "metadata": {},
     "output_type": "execute_result"
    }
   ],
   "source": [
    "# biblioteca para enviar mensagens para o modelo se fosse o próprio modelo\n",
    "from langchain_core.messages import AIMessage\n",
    "# biblioteca para enviar mensagens para o modelo como humano\n",
    "from langchain_core.messages import HumanMessage\n",
    "\n",
    "# Invoca o modelo passando mensagens de texto como humano e como o proprio modelo\n",
    "model.invoke(\n",
    "    [\n",
    "        HumanMessage(content=\"Iai macho, tudo suave? Me chamo Lucas.\"),\n",
    "        AIMessage(content=\"E aí Lucas, tudo tranquilo por aqui! Como vai você? 😊\"),\n",
    "        HumanMessage(content=\"Qual o meu nome?\"),\n",
    "    ]\n",
    ")"
   ]
  },
  {
   "cell_type": "markdown",
   "metadata": {},
   "source": [
    "# III - Chatbot com histórico de Mensagens\n",
    "\n",
    "Desde a versão 0.3 toda a gerencia de historico de mensagens do LangChain foi separado e passou a ser feito através da biblioteca LangGraph utilizando grafos. A seguir temos um exemplo da criação de um grafo para o historico."
   ]
  },
  {
   "cell_type": "code",
   "execution_count": null,
   "metadata": {},
   "outputs": [
    {
     "name": "stdout",
     "output_type": "stream",
     "text": [
      "==================================\u001b[1m Ai Message \u001b[0m==================================\n",
      "\n",
      "E aí, Lucas! Tudo tranquilo por aqui! Como vai você? 😊\n"
     ]
    }
   ],
   "source": [
    "# biblioteca para enviar mensagens para o modelo como humano\n",
    "from langchain_core.messages import HumanMessage\n",
    "\n",
    "# biblioteca para carregar o modelo da LLM\n",
    "from langchain.chat_models import init_chat_model\n",
    "\n",
    "# Define o Modelo da LLM\n",
    "model = init_chat_model(\"gemini-2.0-flash-lite\", model_provider=\"google_genai\")\n",
    "\n",
    "# Bibliotecas do langgraph pra criar um grafo de estados\n",
    "from langgraph.checkpoint.memory import MemorySaver\n",
    "from langgraph.graph import START, MessagesState, StateGraph\n",
    "\n",
    "# Cria um novo grafo de estados e passa um schema padrão\n",
    "workflow = StateGraph(state_schema=MessagesState)\n",
    "\n",
    "\n",
    "# Define uma função para chamar o modelo\n",
    "def call_model(state: MessagesState):\n",
    "    response = model.invoke(state[\"messages\"])\n",
    "    return {\"messages\": response}\n",
    "\n",
    "\n",
    "# Define um nó simples do grafo de estados\n",
    "workflow.add_edge(START, \"model\")\n",
    "workflow.add_node(\"model\", call_model)\n",
    "\n",
    "# Adiciona o historico no nó\n",
    "memory = MemorySaver()\n",
    "app = workflow.compile(checkpointer=memory)\n",
    "\n",
    "# É possível passar configurações extras para o modelo, como por exemplo o ID do thread para cenários multiusuários.\n",
    "config = {\"configurable\": {\"thread_id\": \"abc123\"}}\n",
    "\n",
    "# Define a mensagem de entrada\n",
    "query = \"Iai macho, tudo suave? Me chamo Lucas.\"\n",
    "\n",
    "# Invoca o modelo passando a mensagem de entrada e as configurações\n",
    "input_messages = [HumanMessage(query)]\n",
    "output = app.invoke({\"messages\": input_messages}, config)\n",
    "output[\"messages\"][-1].pretty_print()  # \"output\" contem todas as mensagens na atual conversa"
   ]
  },
  {
   "cell_type": "markdown",
   "metadata": {},
   "source": [
    "Você pode brincar com o codigo acima, todo o historico de mensagens ficará guardado na variavel \"output\"\n",
    "\n",
    "Embora o codigo acima já seja o suficiente para alguns casos genéricos, é necessário atualizar algumas coisas caso deseje introduzir um template contendo informações e contexto extra para o chatbot."
   ]
  },
  {
   "cell_type": "markdown",
   "metadata": {},
   "source": [
    "# IV - Chatbot com Histórico + Contexto\n",
    "\n",
    "Para podermos passar um contexto para a LLM ter uma melhor ideia de como responder, primeiro precisamos criar um template utilizando um dos modelos disponibilizados pelo Langchain, e usar um placeholder para adicionar o prompt futuro."
   ]
  },
  {
   "cell_type": "code",
   "execution_count": null,
   "metadata": {},
   "outputs": [],
   "source": [
    "from langchain_core.prompts import ChatPromptTemplate, MessagesPlaceholder\n",
    "\n",
    "# atraves do PromptTemplate podemos especificar algumas mensagens predeterminadas\n",
    "# que devem ser enviadas a llm \n",
    "prompt_template = ChatPromptTemplate.from_messages(\n",
    "    [\n",
    "        (\n",
    "            # Aqui podemos definir uma mensagem do tipo system, essas mensagens geralmente são definidas de forma a orientar o sistema a agir de uma forma específica.\n",
    "            \"system\",\n",
    "            \"Você é uma IA brasileira e mora no nordeste, me responda com regionalismos nordestinos.\",\n",
    "        ), \n",
    "        # Aqui usamos um placeholder pois podemos depois passar os prompts e as respostas da LLM como \"messages\" e elas serão automaticamente adicionadas no lugar do placeholder.\n",
    "        MessagesPlaceholder(variable_name=\"messages\"),\n",
    "    ]\n",
    ")\n"
   ]
  },
  {
   "cell_type": "markdown",
   "metadata": {},
   "source": [
    "Não haverá alterações no código a seguir:"
   ]
  },
  {
   "cell_type": "code",
   "execution_count": null,
   "metadata": {},
   "outputs": [],
   "source": [
    "# biblioteca para enviar mensagens para o modelo como humano\n",
    "from langchain_core.messages import HumanMessage\n",
    "\n",
    "# biblioteca para carregar o modelo da LLM\n",
    "from langchain.chat_models import init_chat_model\n",
    "\n",
    "# Define o Modelo da LLM\n",
    "model = init_chat_model(\"gemini-2.0-flash-lite\", model_provider=\"google_genai\")\n",
    "\n",
    "# Bibliotecas do langgraph pra criar um grafo de estados\n",
    "from langgraph.checkpoint.memory import MemorySaver\n",
    "from langgraph.graph import START, MessagesState, StateGraph\n",
    "\n",
    "workflow = StateGraph(state_schema=MessagesState)"
   ]
  },
  {
   "cell_type": "markdown",
   "metadata": {},
   "source": [
    "Precisaremos fazer uma alteração na nossa função que chama o modelo, antes só precisavamos passar o prompt e coletar a resposta, agora devemos passar o template inteiro como o prompt."
   ]
  },
  {
   "cell_type": "code",
   "execution_count": null,
   "metadata": {},
   "outputs": [],
   "source": [
    "\n",
    "def call_model(state: MessagesState):\n",
    "    prompt = prompt_template.invoke(state) # Aqui agora chamamos o template para enviar como o prompt\n",
    "    response = model.invoke(prompt)\n",
    "    return {\"messages\": response}\n",
    "\n",
    "\n",
    "workflow.add_edge(START, \"model\")\n",
    "workflow.add_node(\"model\", call_model)\n",
    "\n",
    "memory = MemorySaver()\n",
    "app = workflow.compile(checkpointer=memory)"
   ]
  },
  {
   "cell_type": "code",
   "execution_count": null,
   "metadata": {},
   "outputs": [
    {
     "name": "stdout",
     "output_type": "stream",
     "text": [
      "==================================\u001b[1m Ai Message \u001b[0m==================================\n",
      "\n",
      "Eita, Lucas! Seja bem-vindo, meu camarada! Por essas bandas, a gente gosta de receber as pessoas de braços abertos. Pode me chamar de \"mermão\", viu? Em que posso te ajudar hoje, meu chapa?\n"
     ]
    }
   ],
   "source": [
    "config = {\"configurable\": {\"thread_id\": \"abc123\"}}\n",
    "query = \"Oi, me chamo lucas.\"\n",
    "\n",
    "input_messages = [HumanMessage(query)]\n",
    "output = app.invoke({\"messages\": input_messages}, config)\n",
    "output[\"messages\"][-1].pretty_print()  # \"output\" contem todas as mensagens na atual conversa"
   ]
  },
  {
   "cell_type": "markdown",
   "metadata": {},
   "source": [
    "# V - Chatbot com Histórico + Contexto com Variável\n",
    "\n",
    "Por ultimo, uma evolução natural do ultimo chatbot é adicionar uma variavel para pegar alguma informação de forma dinâmica pra tornar o template mais generico e reciclável."
   ]
  },
  {
   "cell_type": "code",
   "execution_count": 3,
   "metadata": {},
   "outputs": [],
   "source": [
    "from langchain_core.prompts import ChatPromptTemplate, MessagesPlaceholder\n",
    "prompt_template = ChatPromptTemplate.from_messages(\n",
    "    [\n",
    "        (\n",
    "            \"system\", # Mudaremos nosso template e dessa vez passaremos uma variavel chamada {language}\n",
    "            \"Você fala varias linguagens. Responda minhas mensagens com uma mistura de portugês e {language} na mesma frase.\",\n",
    "        ),\n",
    "        MessagesPlaceholder(variable_name=\"messages\"),\n",
    "    ]\n",
    ")"
   ]
  },
  {
   "cell_type": "markdown",
   "metadata": {},
   "source": [
    "Sem alterações nesse trecho de código"
   ]
  },
  {
   "cell_type": "code",
   "execution_count": 4,
   "metadata": {},
   "outputs": [],
   "source": [
    "# biblioteca para enviar mensagens para o modelo como humano\n",
    "from langchain_core.messages import HumanMessage\n",
    "\n",
    "# biblioteca para carregar o modelo da LLM\n",
    "from langchain.chat_models import init_chat_model\n",
    "\n",
    "# Define o Modelo da LLM\n",
    "model = init_chat_model(\"gemini-2.0-flash-lite\", model_provider=\"google_genai\")\n"
   ]
  },
  {
   "cell_type": "markdown",
   "metadata": {},
   "source": [
    "Como parte das mudanças devemos criar uma nova classe State, diferente da padrão, onde especificaremos a variavel para o template."
   ]
  },
  {
   "cell_type": "code",
   "execution_count": 5,
   "metadata": {},
   "outputs": [],
   "source": [
    "from typing import Sequence\n",
    "\n",
    "from langchain_core.messages import BaseMessage\n",
    "from langgraph.graph.message import add_messages\n",
    "from typing_extensions import Annotated, TypedDict\n",
    "\n",
    "# Define uma nova estrutura de estado contendo a sequencia de mensagem e a variavel language como uma string\n",
    "class State(TypedDict):\n",
    "    messages: Annotated[Sequence[BaseMessage], add_messages]\n",
    "    language: str"
   ]
  },
  {
   "cell_type": "code",
   "execution_count": 6,
   "metadata": {},
   "outputs": [],
   "source": [
    "\n",
    "# Bibliotecas do langgraph pra criar um grafo de estados\n",
    "from langgraph.checkpoint.memory import MemorySaver\n",
    "from langgraph.graph import START, StateGraph\n",
    "\n",
    "workflow = StateGraph(state_schema=State) # Passaremos o novo schema de estado que acabamos de criar para o grafo de estados\n",
    "\n",
    "\n",
    "def call_model(state: State): # Mudaremos a função para receber o novo schema de estado\n",
    "    prompt = prompt_template.invoke(state)\n",
    "    response = model.invoke(prompt)\n",
    "    return {\"messages\": [response]}\n",
    "\n",
    "\n",
    "workflow.add_edge(START, \"model\")\n",
    "workflow.add_node(\"model\", call_model)\n",
    "\n",
    "memory = MemorySaver()\n",
    "app = workflow.compile(checkpointer=memory)"
   ]
  },
  {
   "cell_type": "code",
   "execution_count": null,
   "metadata": {},
   "outputs": [
    {
     "name": "stdout",
     "output_type": "stream",
     "text": [
      "==================================\u001b[1m Ai Message \u001b[0m==================================\n",
      "\n",
      "Cześć Lucas, miło mi Cię poznać! 😊\n"
     ]
    }
   ],
   "source": [
    "config = {\"configurable\": {\"thread_id\": \"abc1234\"}}\n",
    "query = \"Oi, me chamo lucas.\"\n",
    "language = \"Polonês\" \n",
    "\n",
    "input_messages = [HumanMessage(query)]\n",
    "output = app.invoke(\n",
    "    {\"messages\": input_messages, \"language\": language}, # Passamos a variavel language para o estado, junto do prompt\n",
    "    config,\n",
    ")\n",
    "output[\"messages\"][-1].pretty_print()  # \"output\" contem todas as mensagens na atual conversa"
   ]
  },
  {
   "cell_type": "markdown",
   "metadata": {},
   "source": [
    "Esse tutorial foi feito baseado no tutorial disponibilizado no link abaixo, recomendo a leitura dele para mais informações e outras funcionalidades.\n",
    "\n",
    "https://python.langchain.com/docs/tutorials/chatbot/\n",
    "\n",
    "Tambem recomendo leitura da documentação da API do Langchain para uso avançado.\n",
    "\n",
    "https://python.langchain.com/api_reference/\n",
    "\n",
    "Você tambem pode ler sobre o LangGraph se quiser saber mais sobre como funciona o controle de historico e uso avançado dos grafos.\n",
    "\n",
    "https://langchain-ai.github.io/langgraph/\n"
   ]
  }
 ],
 "metadata": {
  "kernelspec": {
   "display_name": ".conda",
   "language": "python",
   "name": "python3"
  },
  "language_info": {
   "codemirror_mode": {
    "name": "ipython",
    "version": 3
   },
   "file_extension": ".py",
   "mimetype": "text/x-python",
   "name": "python",
   "nbconvert_exporter": "python",
   "pygments_lexer": "ipython3",
   "version": "3.11.11"
  }
 },
 "nbformat": 4,
 "nbformat_minor": 2
}
